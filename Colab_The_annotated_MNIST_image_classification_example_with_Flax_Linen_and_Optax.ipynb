{
  "nbformat": 4,
  "nbformat_minor": 0,
  "metadata": {
    "colab": {
      "provenance": []
    },
    "kernelspec": {
      "name": "python3",
      "display_name": "Python 3"
    },
    "language_info": {
      "name": "python"
    },
    "accelerator": "GPU",
    "gpuClass": "standard",
    "widgets": {
      "application/vnd.jupyter.widget-state+json": {
        "edbc68dd266245059455d6c82abbd104": {
          "model_module": "@jupyter-widgets/controls",
          "model_name": "HBoxModel",
          "model_module_version": "1.5.0",
          "state": {
            "_dom_classes": [],
            "_model_module": "@jupyter-widgets/controls",
            "_model_module_version": "1.5.0",
            "_model_name": "HBoxModel",
            "_view_count": null,
            "_view_module": "@jupyter-widgets/controls",
            "_view_module_version": "1.5.0",
            "_view_name": "HBoxView",
            "box_style": "",
            "children": [
              "IPY_MODEL_fbdb6943503543098a915e1a1ff378a4",
              "IPY_MODEL_71480d466e644658a272cd377c11c71e",
              "IPY_MODEL_0ca69d88187d45fc878b4211ec619a0e"
            ],
            "layout": "IPY_MODEL_f2b5a40b4a244506815089a85e4b9df7"
          }
        },
        "fbdb6943503543098a915e1a1ff378a4": {
          "model_module": "@jupyter-widgets/controls",
          "model_name": "HTMLModel",
          "model_module_version": "1.5.0",
          "state": {
            "_dom_classes": [],
            "_model_module": "@jupyter-widgets/controls",
            "_model_module_version": "1.5.0",
            "_model_name": "HTMLModel",
            "_view_count": null,
            "_view_module": "@jupyter-widgets/controls",
            "_view_module_version": "1.5.0",
            "_view_name": "HTMLView",
            "description": "",
            "description_tooltip": null,
            "layout": "IPY_MODEL_d8a2e0235e1d4ed3ad5aa7ac0c68d1e0",
            "placeholder": "​",
            "style": "IPY_MODEL_7cb0c1daae5a4b3a808d235890edd3eb",
            "value": "Dl Completed...: 100%"
          }
        },
        "71480d466e644658a272cd377c11c71e": {
          "model_module": "@jupyter-widgets/controls",
          "model_name": "FloatProgressModel",
          "model_module_version": "1.5.0",
          "state": {
            "_dom_classes": [],
            "_model_module": "@jupyter-widgets/controls",
            "_model_module_version": "1.5.0",
            "_model_name": "FloatProgressModel",
            "_view_count": null,
            "_view_module": "@jupyter-widgets/controls",
            "_view_module_version": "1.5.0",
            "_view_name": "ProgressView",
            "bar_style": "success",
            "description": "",
            "description_tooltip": null,
            "layout": "IPY_MODEL_a0dde7ae5f8f4033affcbf0da6149e95",
            "max": 4,
            "min": 0,
            "orientation": "horizontal",
            "style": "IPY_MODEL_5aefbac584254e0fb10e480287faafc4",
            "value": 4
          }
        },
        "0ca69d88187d45fc878b4211ec619a0e": {
          "model_module": "@jupyter-widgets/controls",
          "model_name": "HTMLModel",
          "model_module_version": "1.5.0",
          "state": {
            "_dom_classes": [],
            "_model_module": "@jupyter-widgets/controls",
            "_model_module_version": "1.5.0",
            "_model_name": "HTMLModel",
            "_view_count": null,
            "_view_module": "@jupyter-widgets/controls",
            "_view_module_version": "1.5.0",
            "_view_name": "HTMLView",
            "description": "",
            "description_tooltip": null,
            "layout": "IPY_MODEL_5fca4d94903d459ab9149071d1be60e4",
            "placeholder": "​",
            "style": "IPY_MODEL_51a16a73268c4969a37af68a31119660",
            "value": " 4/4 [00:01&lt;00:00,  2.19 file/s]"
          }
        },
        "f2b5a40b4a244506815089a85e4b9df7": {
          "model_module": "@jupyter-widgets/base",
          "model_name": "LayoutModel",
          "model_module_version": "1.2.0",
          "state": {
            "_model_module": "@jupyter-widgets/base",
            "_model_module_version": "1.2.0",
            "_model_name": "LayoutModel",
            "_view_count": null,
            "_view_module": "@jupyter-widgets/base",
            "_view_module_version": "1.2.0",
            "_view_name": "LayoutView",
            "align_content": null,
            "align_items": null,
            "align_self": null,
            "border": null,
            "bottom": null,
            "display": null,
            "flex": null,
            "flex_flow": null,
            "grid_area": null,
            "grid_auto_columns": null,
            "grid_auto_flow": null,
            "grid_auto_rows": null,
            "grid_column": null,
            "grid_gap": null,
            "grid_row": null,
            "grid_template_areas": null,
            "grid_template_columns": null,
            "grid_template_rows": null,
            "height": null,
            "justify_content": null,
            "justify_items": null,
            "left": null,
            "margin": null,
            "max_height": null,
            "max_width": null,
            "min_height": null,
            "min_width": null,
            "object_fit": null,
            "object_position": null,
            "order": null,
            "overflow": null,
            "overflow_x": null,
            "overflow_y": null,
            "padding": null,
            "right": null,
            "top": null,
            "visibility": null,
            "width": null
          }
        },
        "d8a2e0235e1d4ed3ad5aa7ac0c68d1e0": {
          "model_module": "@jupyter-widgets/base",
          "model_name": "LayoutModel",
          "model_module_version": "1.2.0",
          "state": {
            "_model_module": "@jupyter-widgets/base",
            "_model_module_version": "1.2.0",
            "_model_name": "LayoutModel",
            "_view_count": null,
            "_view_module": "@jupyter-widgets/base",
            "_view_module_version": "1.2.0",
            "_view_name": "LayoutView",
            "align_content": null,
            "align_items": null,
            "align_self": null,
            "border": null,
            "bottom": null,
            "display": null,
            "flex": null,
            "flex_flow": null,
            "grid_area": null,
            "grid_auto_columns": null,
            "grid_auto_flow": null,
            "grid_auto_rows": null,
            "grid_column": null,
            "grid_gap": null,
            "grid_row": null,
            "grid_template_areas": null,
            "grid_template_columns": null,
            "grid_template_rows": null,
            "height": null,
            "justify_content": null,
            "justify_items": null,
            "left": null,
            "margin": null,
            "max_height": null,
            "max_width": null,
            "min_height": null,
            "min_width": null,
            "object_fit": null,
            "object_position": null,
            "order": null,
            "overflow": null,
            "overflow_x": null,
            "overflow_y": null,
            "padding": null,
            "right": null,
            "top": null,
            "visibility": null,
            "width": null
          }
        },
        "7cb0c1daae5a4b3a808d235890edd3eb": {
          "model_module": "@jupyter-widgets/controls",
          "model_name": "DescriptionStyleModel",
          "model_module_version": "1.5.0",
          "state": {
            "_model_module": "@jupyter-widgets/controls",
            "_model_module_version": "1.5.0",
            "_model_name": "DescriptionStyleModel",
            "_view_count": null,
            "_view_module": "@jupyter-widgets/base",
            "_view_module_version": "1.2.0",
            "_view_name": "StyleView",
            "description_width": ""
          }
        },
        "a0dde7ae5f8f4033affcbf0da6149e95": {
          "model_module": "@jupyter-widgets/base",
          "model_name": "LayoutModel",
          "model_module_version": "1.2.0",
          "state": {
            "_model_module": "@jupyter-widgets/base",
            "_model_module_version": "1.2.0",
            "_model_name": "LayoutModel",
            "_view_count": null,
            "_view_module": "@jupyter-widgets/base",
            "_view_module_version": "1.2.0",
            "_view_name": "LayoutView",
            "align_content": null,
            "align_items": null,
            "align_self": null,
            "border": null,
            "bottom": null,
            "display": null,
            "flex": null,
            "flex_flow": null,
            "grid_area": null,
            "grid_auto_columns": null,
            "grid_auto_flow": null,
            "grid_auto_rows": null,
            "grid_column": null,
            "grid_gap": null,
            "grid_row": null,
            "grid_template_areas": null,
            "grid_template_columns": null,
            "grid_template_rows": null,
            "height": null,
            "justify_content": null,
            "justify_items": null,
            "left": null,
            "margin": null,
            "max_height": null,
            "max_width": null,
            "min_height": null,
            "min_width": null,
            "object_fit": null,
            "object_position": null,
            "order": null,
            "overflow": null,
            "overflow_x": null,
            "overflow_y": null,
            "padding": null,
            "right": null,
            "top": null,
            "visibility": null,
            "width": null
          }
        },
        "5aefbac584254e0fb10e480287faafc4": {
          "model_module": "@jupyter-widgets/controls",
          "model_name": "ProgressStyleModel",
          "model_module_version": "1.5.0",
          "state": {
            "_model_module": "@jupyter-widgets/controls",
            "_model_module_version": "1.5.0",
            "_model_name": "ProgressStyleModel",
            "_view_count": null,
            "_view_module": "@jupyter-widgets/base",
            "_view_module_version": "1.2.0",
            "_view_name": "StyleView",
            "bar_color": null,
            "description_width": ""
          }
        },
        "5fca4d94903d459ab9149071d1be60e4": {
          "model_module": "@jupyter-widgets/base",
          "model_name": "LayoutModel",
          "model_module_version": "1.2.0",
          "state": {
            "_model_module": "@jupyter-widgets/base",
            "_model_module_version": "1.2.0",
            "_model_name": "LayoutModel",
            "_view_count": null,
            "_view_module": "@jupyter-widgets/base",
            "_view_module_version": "1.2.0",
            "_view_name": "LayoutView",
            "align_content": null,
            "align_items": null,
            "align_self": null,
            "border": null,
            "bottom": null,
            "display": null,
            "flex": null,
            "flex_flow": null,
            "grid_area": null,
            "grid_auto_columns": null,
            "grid_auto_flow": null,
            "grid_auto_rows": null,
            "grid_column": null,
            "grid_gap": null,
            "grid_row": null,
            "grid_template_areas": null,
            "grid_template_columns": null,
            "grid_template_rows": null,
            "height": null,
            "justify_content": null,
            "justify_items": null,
            "left": null,
            "margin": null,
            "max_height": null,
            "max_width": null,
            "min_height": null,
            "min_width": null,
            "object_fit": null,
            "object_position": null,
            "order": null,
            "overflow": null,
            "overflow_x": null,
            "overflow_y": null,
            "padding": null,
            "right": null,
            "top": null,
            "visibility": null,
            "width": null
          }
        },
        "51a16a73268c4969a37af68a31119660": {
          "model_module": "@jupyter-widgets/controls",
          "model_name": "DescriptionStyleModel",
          "model_module_version": "1.5.0",
          "state": {
            "_model_module": "@jupyter-widgets/controls",
            "_model_module_version": "1.5.0",
            "_model_name": "DescriptionStyleModel",
            "_view_count": null,
            "_view_module": "@jupyter-widgets/base",
            "_view_module_version": "1.2.0",
            "_view_name": "StyleView",
            "description_width": ""
          }
        }
      }
    }
  },
  "cells": [
    {
      "cell_type": "markdown",
      "source": [
        "# The annotated MNIST image classification example with Flax Linen and Optax"
      ],
      "metadata": {
        "id": "3Je3o70zIBmn"
      }
    },
    {
      "cell_type": "markdown",
      "source": [
        "_Author: @8bitmp3_\n",
        "\n",
        "This tutorial uses [Flax](https://flax.readthedocs.io)—a high-performance deep learning library for [JAX](https://jax.readthedocs.io) designed for flexibility—to show you how to construct a simple convolutional neural network (CNN) using the Linen API and [Optax](https://github.com/deepmind/optax/) and train the network for image classification on the MNIST dataset.\n",
        "\n",
        "If you're new to JAX, check out:\n",
        "\n",
        "- [JAX quickstart](https://jax.readthedocs.io/en/latest/notebooks/quickstart.html)\n",
        "- [Thinking in JAX](https://jax.readthedocs.io/en/latest/notebooks/thinking_in_jax.html)\n",
        "- [JAX 101](https://jax.readthedocs.io/en/latest/jax-101/index.html)\n",
        "- [JAX for the impatient](https://flax.readthedocs.io/en/latest/notebooks/jax_for_the_impatient.html)\n",
        "\n",
        "To learn more about Flax and its Linen API, refer to:\n",
        "- [Flax basics](https://flax.readthedocs.io/en/latest/notebooks/flax_basics.html)\n",
        "- [Flax patterns: Managing state and parameters](https://flax.readthedocs.io/en/latest/patterns/state_params.html)\n",
        "- [Linen design principles](https://flax.readthedocs.io/en/latest/design_notes/linen_design_principles.html)\n",
        "- [Linen introduction](https://github.com/google/flax/blob/master/docs/notebooks/linen_intro.ipynb)\n",
        "- [More notebooks](https://github.com/google/flax/tree/master/docs/notebooks) (including a more concise version of this MNIST notebook by @andsteing)\n",
        "\n",
        "This tutorial has the following workflow:\n",
        "\n",
        "- Perform a quick setup\n",
        "- Build a convolutional neural network model with the Linen API that classifies images\n",
        "- Define a loss and accuracy metrics function\n",
        "- Create a dataset function with TensorFlow Datasets\n",
        "- Define training and evaluation functions\n",
        "- Load the MNIST dataset\n",
        "- Initialize the parameters with PRNGs and instantiate the optimizer with Optax\n",
        "- Train the network and evaluate it\n",
        "\n",
        "If you're using [Google Colaboratory](https://colab.research.google.com/notebooks/welcome.ipynb) (Colab), enable the GPU acceleration (**Runtime** > **Change runtime type** > **Hardware accelerator**:**GPU**)."
      ],
      "metadata": {
        "id": "fOlzHALwIGZg"
      }
    },
    {
      "cell_type": "markdown",
      "source": [
        "## Setup\n",
        "\n",
        "Install JAX, Flax, [Optax](https://github.com/deepmind/optax/), and TensorFlow Datasets (TFDS). Flax can use any data-loading pipeline and this example demonstrates how to utilize TFDS."
      ],
      "metadata": {
        "id": "2ZHT0f0GIKpF"
      }
    },
    {
      "cell_type": "code",
      "execution_count": 1,
      "metadata": {
        "colab": {
          "base_uri": "https://localhost:8080/"
        },
        "id": "chkKdnsnHKEQ",
        "outputId": "23942662-b916-4c59-9310-8fe7aa146925"
      },
      "outputs": [
        {
          "output_type": "stream",
          "name": "stdout",
          "text": [
            "\u001b[K     |████████████████████████████████| 2.0 MB 15.7 MB/s \n",
            "\u001b[K     |████████████████████████████████| 180 kB 72.4 MB/s \n",
            "\u001b[K     |████████████████████████████████| 145 kB 65.9 MB/s \n",
            "\u001b[K     |████████████████████████████████| 217 kB 66.5 MB/s \n",
            "\u001b[K     |████████████████████████████████| 51 kB 5.4 MB/s \n",
            "\u001b[K     |████████████████████████████████| 76 kB 5.9 MB/s \n",
            "\u001b[?25h"
          ]
        }
      ],
      "source": [
        "!pip install --upgrade -q pip jax jaxlib flax optax tensorflow-datasets"
      ]
    },
    {
      "cell_type": "markdown",
      "source": [
        "Import JAX, [JAX NumPy](https://jax.readthedocs.io/en/latest/jax.numpy.html) (which lets you run code on GPUs and TPUs), Flax, ordinary NumPy, and TFDS.\n"
      ],
      "metadata": {
        "id": "guRSyETHIcb-"
      }
    },
    {
      "cell_type": "code",
      "source": [
        "import jax\n",
        "import jax.numpy as jnp               # JAX NumPy\n",
        "\n",
        "from flax import linen as nn          # The Linen API\n",
        "from flax.training import train_state\n",
        "import optax                          # The Optax gradient processing and optimization library\n",
        "\n",
        "import numpy as np                    # Ordinary NumPy\n",
        "import tensorflow_datasets as tfds    # TFDS for MNIST"
      ],
      "metadata": {
        "id": "qoMM2ZufHOZr"
      },
      "execution_count": 2,
      "outputs": []
    },
    {
      "cell_type": "markdown",
      "source": [
        "## Build a model\n",
        "\n",
        "Build a convolutional neural network with the Flax Linen API by subclassing [`flax.linen.Module`](https://flax.readthedocs.io/en/latest/flax.linen.html#core-module-abstraction). Because the architecture in this example is relatively simple—you're just stacking layers—you can define the inlined submodules directly within the `__call__` method and wrap it with the `@compact` decorator ([`flax.linen.compact`](https://flax.readthedocs.io/en/latest/flax.linen.html#compact-methods))."
      ],
      "metadata": {
        "id": "hzQs7X6gIgow"
      }
    },
    {
      "cell_type": "code",
      "source": [
        "class CNN(nn.Module):\n",
        "\n",
        "  @nn.compact\n",
        "  # Provide a constructor to register a new parameter \n",
        "  # and return its initial value\n",
        "  def __call__(self, x):\n",
        "    x = nn.Conv(features=32, kernel_size=(3, 3))(x)\n",
        "    x = nn.relu(x)\n",
        "    x = nn.avg_pool(x, window_shape=(2, 2), strides=(2, 2))\n",
        "    x = nn.Conv(features=64, kernel_size=(3, 3))(x)\n",
        "    x = nn.relu(x)\n",
        "    x = nn.avg_pool(x, window_shape=(2, 2), strides=(2, 2))\n",
        "    x = x.reshape((x.shape[0], -1)) # Flatten\n",
        "    x = nn.Dense(features=256)(x)\n",
        "    x = nn.relu(x)\n",
        "    x = nn.Dense(features=10)(x)    # There are 10 classes in MNIST\n",
        "    return x"
      ],
      "metadata": {
        "id": "auDbYLeBHUkS"
      },
      "execution_count": 3,
      "outputs": []
    },
    {
      "cell_type": "markdown",
      "source": [
        "## Create a metrics function\n",
        "\n",
        "For loss and accuracy metrics, create a separate function:\n",
        "\n",
        "  - Optax has a built-in softmax cross-entropy loss ([`optax.softmax_cross_entropy`](https://optax.readthedocs.io/en/latest/api.html#optax.softmax_cross_entropy)). You will be defining and computing the loss inside a training step function later as follows:\n",
        "  - The labels can be one-hot encoded with [`jax.nn.one_hot`](https://jax.readthedocs.io/en/latest/_autosummary/jax.nn.one_hot.html), as demonstrated below."
      ],
      "metadata": {
        "id": "xTiTWeCvIkLs"
      }
    },
    {
      "cell_type": "code",
      "source": [
        "def compute_metrics(logits, labels):\n",
        "  loss = jnp.mean(optax.softmax_cross_entropy(logits, jax.nn.one_hot(labels, num_classes=10)))\n",
        "  accuracy = jnp.mean(jnp.argmax(logits, -1) == labels)\n",
        "  metrics = {\n",
        "      'loss': loss,\n",
        "      'accuracy': accuracy\n",
        "  }\n",
        "  return metrics"
      ],
      "metadata": {
        "id": "A_8Us4BMHY1b"
      },
      "execution_count": 4,
      "outputs": []
    },
    {
      "cell_type": "markdown",
      "source": [
        "## The dataset\n",
        "\n",
        "Define a function that:\n",
        "  - Uses TFDS to load and prepare the MNIST dataset; and\n",
        "  - Converts the samples to floating-point numbers."
      ],
      "metadata": {
        "id": "JawgdPwrIoBx"
      }
    },
    {
      "cell_type": "code",
      "source": [
        "def get_datasets():\n",
        "  ds_builder = tfds.builder('mnist')\n",
        "  ds_builder.download_and_prepare()\n",
        "  # Split into training/test sets\n",
        "  train_ds = tfds.as_numpy(ds_builder.as_dataset(split='train', batch_size=-1))\n",
        "  test_ds = tfds.as_numpy(ds_builder.as_dataset(split='test', batch_size=-1))\n",
        "  # Convert to floating-points\n",
        "  train_ds['image'] = jnp.float32(train_ds['image']) / 255.0\n",
        "  test_ds['image'] = jnp.float32(test_ds['image']) / 255.0\n",
        "  return train_ds, test_ds"
      ],
      "metadata": {
        "id": "TYFu-T7iHZNC"
      },
      "execution_count": 5,
      "outputs": []
    },
    {
      "cell_type": "markdown",
      "source": [
        "## Training and evaluation functions\n",
        "\n",
        "Write a training step function that:\n",
        "\n",
        "  - Evaluates the neural network given the parameters and a batch of input images with the [`flax.linen.Module.apply`](https://flax.readthedocs.io/en/latest/flax.linen.html#flax.linen.Module.apply) method.\n",
        "  - Defines and computes the `cross_entropy_loss` function.\n",
        "  - Evaluates the loss function and its gradient using [`jax.value_and_grad`](https://jax.readthedocs.io/en/latest/jax.html#jax.value_and_grad) (check the [JAX autodiff cookbook](https://jax.readthedocs.io/en/latest/notebooks/autodiff_cookbook.html#Evaluate-a-function-and-its-gradient-using-value_and_grad) to learn more).\n",
        "  - Applies a [pytree](https://jax.readthedocs.io/en/latest/pytrees.html#pytrees-and-jax-functions) of gradients (`flax.training.train_state.TrainState.apply_gradients`) to the optimizer to update the model's parameters.\n",
        "  - Returns the optimizer `state` and computes the metrics using `compute_metrics` (defined earlier).\n",
        "\n",
        "  Use JAX's [`@jit`](https://jax.readthedocs.io/en/latest/jax.html#jax.jit) decorator to trace the entire `train_step` function and just-in-time(JIT-compile with [XLA](https://www.tensorflow.org/xla) into fused device operations that run faster and more efficiently on hardware accelerators."
      ],
      "metadata": {
        "id": "7pskFcqEIrd-"
      }
    },
    {
      "cell_type": "code",
      "source": [
        "@jax.jit\n",
        "def train_step(state, batch):\n",
        "  def loss_fn(params):\n",
        "    logits = CNN().apply({'params': params}, batch['image'])\n",
        "    loss = jnp.mean(optax.softmax_cross_entropy(\n",
        "        logits=logits, \n",
        "        labels=jax.nn.one_hot(batch['label'], num_classes=10)))\n",
        "    return loss, logits\n",
        "  grad_fn = jax.value_and_grad(loss_fn, has_aux=True)\n",
        "  (_, logits), grads = grad_fn(state.params)\n",
        "  state = state.apply_gradients(grads=grads)\n",
        "  metrics = compute_metrics(logits, batch['label'])\n",
        "  return state, metrics"
      ],
      "metadata": {
        "id": "brXZ4qlmHaeg"
      },
      "execution_count": 6,
      "outputs": []
    },
    {
      "cell_type": "markdown",
      "source": [
        "Create a [`jit`](https://jax.readthedocs.io/en/latest/jax.html#jax.jit)-compiled function that evaluates the model on the test set using [`flax.linen.Module.apply`](https://flax.readthedocs.io/en/latest/flax.linen.html#flax.linen.Module.apply):"
      ],
      "metadata": {
        "id": "mL8H2EYIIvXA"
      }
    },
    {
      "cell_type": "code",
      "source": [
        "@jax.jit\n",
        "def eval_step(params, batch):\n",
        "  logits = CNN().apply({'params': params}, batch['image'])\n",
        "  return compute_metrics(logits, batch['label'])"
      ],
      "metadata": {
        "id": "nePav6heHbrw"
      },
      "execution_count": 7,
      "outputs": []
    },
    {
      "cell_type": "markdown",
      "source": [
        "Define a training function for one epoch that:\n",
        "\n",
        "  - Shuffles the training data before each epoch using [`jax.random.permutation`](https://jax.readthedocs.io/en/latest/_autosummary/jax.random.permutation.html) that takes a PRNGKey as a parameter (discussed in more detail later in this tutorial and in [JAX - the sharp bits](https://jax.readthedocs.io/en/latest/notebooks/Common_Gotchas_in_JAX.html#JAX-PRNG)).\n",
        "  - Runs an optimization step for each batch.\n",
        "  - Retrieves the training metrics from the device with `jax.device_get` and computes their mean across each batch in an epoch.\n",
        "  - Returns the optimizer `state` with updated parameters and the training loss and accuracy metrics (`training_epoch_metrics`)."
      ],
      "metadata": {
        "id": "7v_BqZ8JIzp6"
      }
    },
    {
      "cell_type": "code",
      "source": [
        "def train_epoch(state, train_ds, batch_size, epoch, rng):\n",
        "  train_ds_size = len(train_ds['image'])\n",
        "  steps_per_epoch = train_ds_size // batch_size\n",
        "\n",
        "  perms = jax.random.permutation(rng, len(train_ds['image']))\n",
        "  perms = perms[:steps_per_epoch * batch_size]  # Skip an incomplete batch\n",
        "  perms = perms.reshape((steps_per_epoch, batch_size))\n",
        "\n",
        "  batch_metrics = []\n",
        "\n",
        "  for perm in perms:\n",
        "    batch = {k: v[perm, ...] for k, v in train_ds.items()}\n",
        "    state, metrics = train_step(state, batch)\n",
        "    batch_metrics.append(metrics)\n",
        "\n",
        "  training_batch_metrics = jax.device_get(batch_metrics)\n",
        "  training_epoch_metrics = {\n",
        "      k: np.mean([metrics[k] for metrics in training_batch_metrics])\n",
        "      for k in training_batch_metrics[0]}\n",
        "\n",
        "  print('Training - epoch: %d, loss: %.4f, accuracy: %.2f' % (epoch, training_epoch_metrics['loss'], training_epoch_metrics['accuracy'] * 100))\n",
        "\n",
        "  return state, training_epoch_metrics"
      ],
      "metadata": {
        "id": "jqZDwkUyHcvh"
      },
      "execution_count": 8,
      "outputs": []
    },
    {
      "cell_type": "markdown",
      "source": [
        "Create a model evaluation function that:\n",
        "\n",
        "  - Evalues the model on the test set.\n",
        "  - Retrieves the evaluation metrics from the device with `jax.device_get`.\n",
        "  - Copies the metrics [data stored](https://flax.readthedocs.io/en/latest/design_notes/linen_design_principles.html#how-are-parameters-represented-and-how-do-we-handle-general-differentiable-algorithms-that-update-stateful-variables) in a JAX [pytree](https://jax.readthedocs.io/en/latest/pytrees.html#pytrees-and-jax-functions).\n",
        "  - Returns the test loss and accuracy."
      ],
      "metadata": {
        "id": "ez1F--oII4Vk"
      }
    },
    {
      "cell_type": "code",
      "source": [
        "def eval_model(model, test_ds):\n",
        "  metrics = eval_step(model, test_ds)\n",
        "  metrics = jax.device_get(metrics)\n",
        "  eval_summary = jax.tree_map(lambda x: x.item(), metrics)\n",
        "  return eval_summary['loss'], eval_summary['accuracy']"
      ],
      "metadata": {
        "id": "D43WsAYgHej3"
      },
      "execution_count": 9,
      "outputs": []
    },
    {
      "cell_type": "markdown",
      "source": [
        "## Load the dataset\n",
        "\n",
        "Download the dataset and preprocess it with `get_datasets` you defined earlier:"
      ],
      "metadata": {
        "id": "zcXvEIgHI6f4"
      }
    },
    {
      "cell_type": "code",
      "source": [
        "train_ds, test_ds = get_datasets()"
      ],
      "metadata": {
        "colab": {
          "base_uri": "https://localhost:8080/",
          "height": 105,
          "referenced_widgets": [
            "edbc68dd266245059455d6c82abbd104",
            "fbdb6943503543098a915e1a1ff378a4",
            "71480d466e644658a272cd377c11c71e",
            "0ca69d88187d45fc878b4211ec619a0e",
            "f2b5a40b4a244506815089a85e4b9df7",
            "d8a2e0235e1d4ed3ad5aa7ac0c68d1e0",
            "7cb0c1daae5a4b3a808d235890edd3eb",
            "a0dde7ae5f8f4033affcbf0da6149e95",
            "5aefbac584254e0fb10e480287faafc4",
            "5fca4d94903d459ab9149071d1be60e4",
            "51a16a73268c4969a37af68a31119660"
          ]
        },
        "id": "uYNqiD87Hfe-",
        "outputId": "16be7b64-06c3-4464-9f12-f5abf6935db5"
      },
      "execution_count": 10,
      "outputs": [
        {
          "output_type": "stream",
          "name": "stdout",
          "text": [
            "\u001b[1mDownloading and preparing dataset 11.06 MiB (download: 11.06 MiB, generated: 21.00 MiB, total: 32.06 MiB) to ~/tensorflow_datasets/mnist/3.0.1...\u001b[0m\n"
          ]
        },
        {
          "output_type": "display_data",
          "data": {
            "text/plain": [
              "Dl Completed...:   0%|          | 0/4 [00:00<?, ? file/s]"
            ],
            "application/vnd.jupyter.widget-view+json": {
              "version_major": 2,
              "version_minor": 0,
              "model_id": "edbc68dd266245059455d6c82abbd104"
            }
          },
          "metadata": {}
        },
        {
          "output_type": "stream",
          "name": "stdout",
          "text": [
            "\u001b[1mDataset mnist downloaded and prepared to ~/tensorflow_datasets/mnist/3.0.1. Subsequent calls will reuse this data.\u001b[0m\n"
          ]
        }
      ]
    },
    {
      "cell_type": "markdown",
      "source": [
        "## Initialize the parameters with PRNGs and instantiate the optimizer\n",
        "\n",
        "[PRNGs](https://jax.readthedocs.io/en/latest/notebooks/Common_Gotchas_in_JAX.html#JAX-PRNG): Before you start training the model, you need to randomly initialize the parameters.\n",
        "\n",
        "  In NumPy, you would usually use the stateful pseudorandom number generators (PRNG). \n",
        "  \n",
        "  JAX, however, uses an explicit PRNG (refer to [JAX - the sharp bits](https://jax.readthedocs.io/en/latest/notebooks/Common_Gotchas_in_JAX.html#JAX-PRNG) for details):\n",
        "\n",
        "  - Get one [PRNGKey](https://jax.readthedocs.io/en/latest/_autosummary/jax.random.PRNGKey.html#jax.random.PRNGKey).\n",
        "  - [`split`](https://jax.readthedocs.io/en/latest/_autosummary/jax.random.split.html#jax.random.split) it to get a second key that you'll use for parameter initialization.\n",
        "\n",
        "  Note that in JAX and Flax you can have [separate PRNG chains](https://flax.readthedocs.io/en/latest/design_notes/linen_design_principles.html#how-are-parameters-represented-and-how-do-we-handle-general-differentiable-algorithms-that-update-stateful-variables) (with different names, such as `rng` and `init_rng` below) inside `Module`s for different applications. (Learn more about [PRNG chains](https://flax.readthedocs.io/en/latest/design_notes/linen_design_principles.html#how-are-parameters-represented-and-how-do-we-handle-general-differentiable-algorithms-that-update-stateful-variables) and [JAX PRNG design](https://github.com/google/jax/blob/master/design_notes/prng.md).)"
      ],
      "metadata": {
        "id": "ljvDJGj4I_Iu"
      }
    },
    {
      "cell_type": "code",
      "source": [
        "rng = jax.random.PRNGKey(0)\n",
        "rng, init_rng = jax.random.split(rng)"
      ],
      "metadata": {
        "id": "73qUU6SOHhu7"
      },
      "execution_count": 11,
      "outputs": []
    },
    {
      "cell_type": "markdown",
      "source": [
        "Instantiate the `CNN` model and initialize its parameters using a PRNG:"
      ],
      "metadata": {
        "id": "wpDxwls9JA2E"
      }
    },
    {
      "cell_type": "code",
      "source": [
        "cnn = CNN()\n",
        "params = cnn.init(init_rng, jnp.ones([1, 28, 28, 1]))['params']"
      ],
      "metadata": {
        "id": "9r-fJ4WHHnER"
      },
      "execution_count": 12,
      "outputs": []
    },
    {
      "cell_type": "markdown",
      "source": [
        "Instantiate the [SGD optimizer with Optax](https://optax.readthedocs.io/en/latest/api.html#sgd):"
      ],
      "metadata": {
        "id": "QVkyY6hnJCax"
      }
    },
    {
      "cell_type": "code",
      "source": [
        "nesterov_momentum = 0.9\n",
        "learning_rate = 0.001\n",
        "tx = optax.sgd(learning_rate=learning_rate, nesterov=nesterov_momentum)"
      ],
      "metadata": {
        "id": "Jgf8Yk7-HmGl"
      },
      "execution_count": 13,
      "outputs": []
    },
    {
      "cell_type": "markdown",
      "source": [
        "Create a [`TrainState`](https://flax.readthedocs.io/en/latest/flip/1009-optimizer-api.html#train-state) data class that applies the gradients and updates the optimizer state and parameters.\n"
      ],
      "metadata": {
        "id": "FCQw6Z40JEQZ"
      }
    },
    {
      "cell_type": "code",
      "source": [
        "state = train_state.TrainState.create(apply_fn=cnn.apply, params=params, tx=tx)"
      ],
      "metadata": {
        "id": "nSs6GnaYHrFH"
      },
      "execution_count": 14,
      "outputs": []
    },
    {
      "cell_type": "markdown",
      "source": [
        "## Train the network and evaluate it\n",
        "\n",
        "Set the default number of epochs and the size of each batch:"
      ],
      "metadata": {
        "id": "qDIxw7sNJF5Y"
      }
    },
    {
      "cell_type": "code",
      "source": [
        "num_epochs = 10\n",
        "batch_size = 32"
      ],
      "metadata": {
        "id": "X1EgwxqeJIVf"
      },
      "execution_count": 15,
      "outputs": []
    },
    {
      "cell_type": "markdown",
      "source": [
        "Finally, begin training and evaluating the model over 10 epochs:"
      ],
      "metadata": {
        "id": "hQoPXDD9JIDW"
      }
    },
    {
      "cell_type": "code",
      "source": [
        "for epoch in range(1, num_epochs + 1):\n",
        "  # Use a separate PRNG key to permute image data during shuffling\n",
        "  rng, input_rng = jax.random.split(rng)\n",
        "  # Run an optimization step over a training batch\n",
        "  state, train_metrics = train_epoch(state, train_ds, batch_size, epoch, input_rng)\n",
        "  # Evaluate on the test set after each training epoch\n",
        "  test_loss, test_accuracy = eval_model(state.params, test_ds)\n",
        "  print('Testing - epoch: %d, loss: %.2f, accuracy: %.2f' % (epoch, test_loss, test_accuracy * 100))"
      ],
      "metadata": {
        "colab": {
          "base_uri": "https://localhost:8080/"
        },
        "id": "O04ljg5KHvm3",
        "outputId": "5796a4b0-ab82-4f93-fb1c-3dcb28e8c663"
      },
      "execution_count": 16,
      "outputs": [
        {
          "output_type": "stream",
          "name": "stdout",
          "text": [
            "Training - epoch: 1, loss: 1.7941, accuracy: 62.73\n",
            "Testing - epoch: 1, loss: 0.93, accuracy: 82.31\n",
            "Training - epoch: 2, loss: 0.6114, accuracy: 85.10\n",
            "Testing - epoch: 2, loss: 0.44, accuracy: 88.47\n",
            "Training - epoch: 3, loss: 0.4128, accuracy: 88.40\n",
            "Testing - epoch: 3, loss: 0.36, accuracy: 89.89\n",
            "Training - epoch: 4, loss: 0.3598, accuracy: 89.67\n",
            "Testing - epoch: 4, loss: 0.32, accuracy: 90.81\n",
            "Training - epoch: 5, loss: 0.3280, accuracy: 90.50\n",
            "Testing - epoch: 5, loss: 0.30, accuracy: 91.54\n",
            "Training - epoch: 6, loss: 0.3047, accuracy: 91.18\n",
            "Testing - epoch: 6, loss: 0.28, accuracy: 91.94\n",
            "Training - epoch: 7, loss: 0.2853, accuracy: 91.71\n",
            "Testing - epoch: 7, loss: 0.26, accuracy: 92.26\n",
            "Training - epoch: 8, loss: 0.2680, accuracy: 92.15\n",
            "Testing - epoch: 8, loss: 0.24, accuracy: 92.90\n",
            "Training - epoch: 9, loss: 0.2522, accuracy: 92.72\n",
            "Testing - epoch: 9, loss: 0.23, accuracy: 93.15\n",
            "Training - epoch: 10, loss: 0.2384, accuracy: 92.99\n",
            "Testing - epoch: 10, loss: 0.22, accuracy: 93.56\n"
          ]
        }
      ]
    }
  ]
}
